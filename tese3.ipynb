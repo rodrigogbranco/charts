{
 "cells": [
  {
   "cell_type": "markdown",
   "metadata": {},
   "source": [
    "# Partial Data - Smartcity TPN Traffic Light Preemption"
   ]
  },
  {
   "cell_type": "markdown",
   "metadata": {},
   "source": [
    "First, we need to import some Python modules. All charts-related functions are in our [helper file](charts_helper/helper.py)."
   ]
  },
  {
   "cell_type": "code",
   "execution_count": 2,
   "metadata": {},
   "outputs": [
    {
     "ename": "ModuleNotFoundError",
     "evalue": "No module named 'shapely'",
     "output_type": "error",
     "traceback": [
      "\u001b[0;31m---------------------------------------------------------------------------\u001b[0m",
      "\u001b[0;31mModuleNotFoundError\u001b[0m                       Traceback (most recent call last)",
      "\u001b[0;32m<ipython-input-2-a0ce70b6a74b>\u001b[0m in \u001b[0;36m<module>\u001b[0;34m\u001b[0m\n\u001b[1;32m      5\u001b[0m \u001b[0msys\u001b[0m\u001b[0;34m.\u001b[0m\u001b[0mpath\u001b[0m\u001b[0;34m.\u001b[0m\u001b[0mappend\u001b[0m\u001b[0;34m(\u001b[0m\u001b[0;34m'/home/rodrigo/charts'\u001b[0m\u001b[0;34m)\u001b[0m\u001b[0;34m\u001b[0m\u001b[0;34m\u001b[0m\u001b[0m\n\u001b[1;32m      6\u001b[0m \u001b[0;34m\u001b[0m\u001b[0m\n\u001b[0;32m----> 7\u001b[0;31m \u001b[0;32mfrom\u001b[0m \u001b[0mcharts_helper\u001b[0m \u001b[0;32mimport\u001b[0m \u001b[0mhelper\u001b[0m\u001b[0;34m\u001b[0m\u001b[0;34m\u001b[0m\u001b[0m\n\u001b[0m\u001b[1;32m      8\u001b[0m \u001b[0;32mfrom\u001b[0m \u001b[0mcharts_helper\u001b[0m \u001b[0;32mimport\u001b[0m \u001b[0mdeltaq\u001b[0m\u001b[0;34m\u001b[0m\u001b[0;34m\u001b[0m\u001b[0m\n\u001b[1;32m      9\u001b[0m \u001b[0;34m\u001b[0m\u001b[0m\n",
      "\u001b[0;32m~/charts/charts_helper/helper.py\u001b[0m in \u001b[0;36m<module>\u001b[0;34m\u001b[0m\n\u001b[1;32m      3\u001b[0m \u001b[0;32mimport\u001b[0m \u001b[0mnumpy\u001b[0m \u001b[0;32mas\u001b[0m \u001b[0mnp\u001b[0m\u001b[0;34m\u001b[0m\u001b[0;34m\u001b[0m\u001b[0m\n\u001b[1;32m      4\u001b[0m \u001b[0;32mimport\u001b[0m \u001b[0mplotly\u001b[0m\u001b[0;34m.\u001b[0m\u001b[0mgraph_objects\u001b[0m \u001b[0;32mas\u001b[0m \u001b[0mgo\u001b[0m\u001b[0;34m\u001b[0m\u001b[0;34m\u001b[0m\u001b[0m\n\u001b[0;32m----> 5\u001b[0;31m \u001b[0;32mfrom\u001b[0m \u001b[0mshapely\u001b[0m\u001b[0;34m.\u001b[0m\u001b[0mgeometry\u001b[0m \u001b[0;32mimport\u001b[0m \u001b[0mPoint\u001b[0m\u001b[0;34m,\u001b[0m \u001b[0mLineString\u001b[0m\u001b[0;34m\u001b[0m\u001b[0;34m\u001b[0m\u001b[0m\n\u001b[0m\u001b[1;32m      6\u001b[0m \u001b[0;32mimport\u001b[0m \u001b[0mgeopandas\u001b[0m \u001b[0;32mas\u001b[0m \u001b[0mgpd\u001b[0m\u001b[0;34m\u001b[0m\u001b[0;34m\u001b[0m\u001b[0m\n\u001b[1;32m      7\u001b[0m \u001b[0;32mimport\u001b[0m \u001b[0mshapely\u001b[0m\u001b[0;34m.\u001b[0m\u001b[0mgeometry\u001b[0m\u001b[0;34m\u001b[0m\u001b[0;34m\u001b[0m\u001b[0m\n",
      "\u001b[0;31mModuleNotFoundError\u001b[0m: No module named 'shapely'"
     ]
    }
   ],
   "source": [
    "import pandas as pd\n",
    "import sys\n",
    "sys.path.append('/home/rodrigo/triscale')\n",
    "import triscale\n",
    "sys.path.append('/home/rodrigo/charts')\n",
    "\n",
    "from charts_helper import helper\n",
    "from charts_helper import deltaq\n",
    "\n",
    "import plotly.express as px\n",
    "import plotly.io as pio"
   ]
  },
  {
   "cell_type": "markdown",
   "metadata": {},
   "source": [
    "## Getting started\n",
    "\n",
    "We need to define the experiment parameters, considering the experiment's runtime durations and desired confidence intervals. "
   ]
  },
  {
   "cell_type": "markdown",
   "metadata": {},
   "source": [
    "Using  [_Triscale_](https://github.com/romain-jacob/triscale) [[Paper]](http://doi.org/10.5281/zenodo.3464273)., we see that we need at least 25 samples to obtain a confidence level of 90% at the 15th percentile, allowing to discard the worst outlier. Without the outlier exclusion, 15 samples are enough to get the same confidence level at the same percentile."
   ]
  },
  {
   "cell_type": "code",
   "execution_count": null,
   "metadata": {},
   "outputs": [],
   "source": [
    "percentile = 15\n",
    "confidence = 90\n",
    "triscale.experiment_sizing(\n",
    "    percentile, \n",
    "    confidence,\n",
    "    robustness=1,\n",
    "    verbose=True); "
   ]
  },
  {
   "cell_type": "markdown",
   "metadata": {},
   "source": [
    "Triscale also informs us that the confidence level at the desired percentile is symmetric."
   ]
  },
  {
   "cell_type": "code",
   "execution_count": null,
   "metadata": {},
   "outputs": [],
   "source": [
    "percentile = 15 \n",
    "confidence = 90 # the confidence level, in %\n",
    "\n",
    "if (triscale.experiment_sizing(percentile,confidence,robustness=1) == \n",
    "    triscale.experiment_sizing(100-percentile,confidence,robustness=1)):\n",
    "    print(\"It takes the same number of samples to estimate \\\n",
    "the \\n{}-th and \\n{}-th percentiles.\".format(percentile, 100-percentile))"
   ]
  },
  {
   "cell_type": "markdown",
   "metadata": {},
   "source": [
    "## _Turin TuSTScenario_\n",
    "\n",
    "This scenario was adapted from [this repository](https://github.com/marcorapelli/TuSTScenario) [[Paper]](https://ieeexplore.ieee.org/abstract/document/8958652). From those files, some minor changes have been made (the original work used mesoscopic simulation)."
   ]
  },
  {
   "cell_type": "markdown",
   "metadata": {},
   "source": [
    "3 EVs were chosen to evaluate our proposal. There is nothing special in those routes, but we avoid low-priority streets. We  don't want leader vehicles being blocked, which raises the global timeloss and can happen with any preemption strategy (including No Preemption one, that does nothing). A fair comparison requires no blocking situation excluding, of course, the ones caused by traffic jams. We get the GPS position of our EVs in the simulation. The EV's routes can be checked below:"
   ]
  },
  {
   "cell_type": "code",
   "execution_count": null,
   "metadata": {},
   "outputs": [],
   "source": [
    "df = pd.read_csv('/home/rodrigo/charts/smartcity-tpn/turin-gps.csv')\n",
    "helper.make_map(df,9.85,helper.make_title('route','turin', 'br'),'turin-area', lang='br', output_dir='figs2')"
   ]
  },
  {
   "cell_type": "markdown",
   "metadata": {},
   "source": [
    "We restricted the entry window of vehicles to 6h-8h AM. One simulation (with a pre-defined seed) was done from 6h to EV's entry time (which is 7h AM). The simulation state was saved. After that, the EV was inserted in the network and a new seed is set to each simulation, which runs independently."
   ]
  },
  {
   "cell_type": "markdown",
   "metadata": {},
   "source": [
    "Hence, Our experiment, for that scenario, is:\n",
    "\n",
    "_Number of Vehicles to be inserted in the original scenario (24h):_ **2,202,814**\n",
    "\n",
    "_Number of Vehicles to be inserted in the our version (6h-8h):_ **175,873**"
   ]
  },
  {
   "cell_type": "markdown",
   "metadata": {},
   "source": [
    "| EV       |      Distance         |  Traffic Lights |         \n",
    "|----------|:---------------------:|----------------:|     \n",
    "| EV1      |  9,961.68m             | 35              |     \n",
    "| EV2      |    9,952.10m           |   19            |     \n",
    "| EV3      | 5,300.60m              |    33           |"
   ]
  },
  {
   "cell_type": "markdown",
   "metadata": {},
   "source": [
    "Our results are presented below."
   ]
  },
  {
   "cell_type": "code",
   "execution_count": null,
   "metadata": {},
   "outputs": [],
   "source": [
    "df = pd.read_csv('/home/rodrigo/charts/smartcity-tpn/turin-tese3.csv')\n",
    "df['tl-ttt'] = (df['tl']/df['ttt'])*100\n",
    "df_algs = df[df['alg'] != 'no-preemption']\n",
    "df_no_preemption = df[df['alg'] == 'no-preemption']"
   ]
  },
  {
   "cell_type": "markdown",
   "metadata": {},
   "source": [
    "We want to see how many times our and other algorithms are better (or worse) than the baseline No Preemption version, using as metric the Time-loss (the difference between the optimal total travel time when the vehicle is free-flowing and the current total travel time). Hence, the Time-loss Improvement is $\\frac{timeloss~before}{timeloss~after}$, if $timeloss~before \\geq timeloss~after$ and $-\\frac{timeloss~after}{timeloss~before}$ otherwise."
   ]
  },
  {
   "cell_type": "code",
   "execution_count": null,
   "metadata": {},
   "outputs": [],
   "source": [
    "helper.make_boxplot_grouped(df_algs, 'imp', helper.make_title('tl-imp','turin', 'br'),'turin-times', width=800, height=480, lang='br', output_dir='figs2')"
   ]
  },
  {
   "cell_type": "markdown",
   "metadata": {},
   "source": [
    "If we are looking for the Time-Loss Improvement percentage, we must use $(1-\\frac{timeloss~after}{timeloss~before})\\times100$. However, this analysis is upper-bound limited to $100\\%$, while there are no limit to the negative counterpart."
   ]
  },
  {
   "cell_type": "code",
   "execution_count": null,
   "metadata": {},
   "outputs": [],
   "source": [
    "helper.make_boxplot_grouped(df_algs, 'perc', helper.make_title('tl-perc', 'turin', 'br'),'turin-perc', width=1920, height=1080, lang='br', output_dir='figs2')"
   ]
  },
  {
   "cell_type": "markdown",
   "metadata": {},
   "source": [
    "In the sequence, we can see the Time-Loss variation only in the No Preemption version (to see our improvement potentials and limits). Fo example, No Preemption version for EV2 vary between 340 and 360 seconds (with one 448.55 second outlier). In this case, we can obtain good percentage, as we did, but not many times better (see the first chart), at least comparing with the other two EVS."
   ]
  },
  {
   "cell_type": "code",
   "execution_count": null,
   "metadata": {},
   "outputs": [],
   "source": [
    "helper.make_boxplot(df_no_preemption, 'tl', helper.make_title('tl-no-preemption','turin', 'br'),'turin-timeloss-nopreempt', width=800, height=480, lang='br', output_dir='figs2')"
   ]
  },
  {
   "cell_type": "code",
   "execution_count": null,
   "metadata": {},
   "outputs": [],
   "source": [
    "helper.make_boxplot(df_no_preemption, 'tl-ttt', helper.make_title('tl-ttt','turin','br'),'turin-timeloss-over-ttt-nopreempt', width=800, height=480, lang='br', output_dir='figs2')"
   ]
  },
  {
   "cell_type": "markdown",
   "metadata": {},
   "source": [
    "To get a better understand of the situation, we can compare Time-Loss as is between the solutions. With that, we can capture the scale of our improvement (the less the better)."
   ]
  },
  {
   "cell_type": "code",
   "execution_count": null,
   "metadata": {},
   "outputs": [],
   "source": [
    "helper.make_boxplot_grouped(df_algs, 'tl', helper.make_title('tl-algs','turin', 'br'),'turin-timeloss-algs', width=800, height=480, lang='br', output_dir='figs2')"
   ]
  },
  {
   "cell_type": "markdown",
   "metadata": {},
   "source": [
    "At last but not least we can check the cost of runtime experiments. The medians are around 25k seconds (aproximatelly 7 hours), for each experiment. For that scenario, we could run up to 200 simulations (of 300, 25 seeds $\\times$ 4 algorithms $\\times$ 3 EVs) using our current computers."
   ]
  },
  {
   "cell_type": "code",
   "execution_count": null,
   "metadata": {},
   "outputs": [],
   "source": [
    "helper.make_boxplot_grouped(df_algs, 'rt', helper.make_title('runtime','turin', 'br'),'turin-runtime', width=800, height=480, lang='br', output_dir='figs2')"
   ]
  },
  {
   "cell_type": "code",
   "execution_count": null,
   "metadata": {},
   "outputs": [],
   "source": [
    "helper.make_boxplot_grouped(df_algs, 'preemptime', helper.make_title('preemptime','turin', 'br'),'turin-preemptime', width=800, height=480, lang='br', output_dir='figs2')"
   ]
  },
  {
   "cell_type": "code",
   "execution_count": null,
   "metadata": {},
   "outputs": [],
   "source": [
    "helper.make_boxplot_grouped(df, 'n_teleported', helper.make_title('n_teleported','turin', 'br'),'turin-teleported', width=1920, height=1080, lang='br', output_dir='figs2')"
   ]
  },
  {
   "cell_type": "markdown",
   "metadata": {},
   "source": [
    "## _TAPAS Cologne_\n",
    "\n",
    "This scenario was adapted from [this page](https://sumo.dlr.de/docs/Data/Scenarios/TAPASCologne.html) [[Paper]](https://elib.dlr.de/45058/2/SRL_81_-_Beitrag_Varschen.pdf). The same process used in Turin TuSTScenario was used here. So, we'll state the differences."
   ]
  },
  {
   "cell_type": "markdown",
   "metadata": {},
   "source": [
    "_Number of Vehicles to be inserted in the original scenario (24h):_ **1,549,612**\n",
    "\n",
    "_Number of Vehicles to be inserted in the our version (6h-8h):_ **252,754**"
   ]
  },
  {
   "cell_type": "markdown",
   "metadata": {},
   "source": [
    "| EV       |      Distance         |  Traffic Lights |         \n",
    "|----------|:---------------------:|----------------:|     \n",
    "| EV1      |        8,351.42m             | 26       |     \n",
    "| EV2      |         5,044.34m           |   27        |     \n",
    "| EV3      |          6,344.31m              |    24      |"
   ]
  },
  {
   "cell_type": "markdown",
   "metadata": {},
   "source": [
    "The following can be interpreted like the previous scenario. You can see the map, routes and our results."
   ]
  },
  {
   "cell_type": "code",
   "execution_count": null,
   "metadata": {},
   "outputs": [],
   "source": [
    "df = pd.read_csv('/home/rodrigo/charts/smartcity-tpn/cologne-gps.csv')\n",
    "helper.make_map(df,9.1,helper.make_title('route','cologne', 'br'),'cologne-area', lang='br', output_dir='figs2')"
   ]
  },
  {
   "cell_type": "code",
   "execution_count": null,
   "metadata": {},
   "outputs": [],
   "source": [
    "df = pd.read_csv('/home/rodrigo/charts/smartcity-tpn/cologne-tese3.csv')\n",
    "df['tl-ttt'] = (df['tl']/df['ttt'])*100\n",
    "df_algs = df[df['alg'] != 'no-preemption']\n",
    "df_no_preemption = df[df['alg'] == 'no-preemption']"
   ]
  },
  {
   "cell_type": "code",
   "execution_count": null,
   "metadata": {},
   "outputs": [],
   "source": [
    "helper.make_boxplot_grouped(df_algs, 'imp', helper.make_title('tl-imp','cologne', 'br'),'cologne-times', width=800, height=480, lang='br', output_dir='figs2')"
   ]
  },
  {
   "cell_type": "code",
   "execution_count": null,
   "metadata": {},
   "outputs": [],
   "source": [
    "helper.make_boxplot_grouped(df_algs, 'perc', helper.make_title('tl-perc','cologne', 'br'),'cologne-perc', width=1920, height=1080, lang='br', output_dir='figs2')"
   ]
  },
  {
   "cell_type": "code",
   "execution_count": null,
   "metadata": {},
   "outputs": [],
   "source": [
    "helper.make_boxplot(df_no_preemption, 'tl', helper.make_title('tl-no-preemption', 'cologne', 'br'),'cologne-timeloss-nopreempt', width=800, height=480, lang='br', output_dir='figs2')"
   ]
  },
  {
   "cell_type": "code",
   "execution_count": null,
   "metadata": {},
   "outputs": [],
   "source": [
    "helper.make_boxplot(df_no_preemption, 'tl-ttt', helper.make_title('tl-ttt','cologne', 'br'),'cologne-timeloss-over-ttt-nopreempt', width=800, height=480, lang='br', output_dir='figs2')"
   ]
  },
  {
   "cell_type": "code",
   "execution_count": null,
   "metadata": {},
   "outputs": [],
   "source": [
    "helper.make_boxplot_grouped(df_algs, 'tl', helper.make_title('tl-algs','cologne', 'br'),'cologne-timeloss-algs', width=800, height=480, lang='br', output_dir='figs2')"
   ]
  },
  {
   "cell_type": "code",
   "execution_count": null,
   "metadata": {},
   "outputs": [],
   "source": [
    "helper.make_boxplot_grouped(df_algs, 'rt', helper.make_title('runtime', 'cologne', 'br'),'cologne-runtime', width=800, height=480, lang='br', output_dir='figs2')"
   ]
  },
  {
   "cell_type": "code",
   "execution_count": null,
   "metadata": {},
   "outputs": [],
   "source": [
    "helper.make_boxplot_grouped(df_algs, 'preemptime', helper.make_title('preemptime','cologne', 'br'),'cologne-preemptime', width=800, height=480, lang='br', output_dir='figs2')"
   ]
  },
  {
   "cell_type": "code",
   "execution_count": null,
   "metadata": {},
   "outputs": [],
   "source": [
    "helper.make_boxplot_grouped(df, 'n_teleported', helper.make_title('n_teleported','cologne', 'br'),'cologne-teleported', width=1920, height=1080, lang='br', output_dir='figs2')"
   ]
  },
  {
   "cell_type": "markdown",
   "metadata": {},
   "source": [
    "## _Metro OD SP 2017_\n",
    "\n",
    "This scenario was made in this work, using Survey data from Metro SP by the year of 2017 (available [here](https://transparencia.metrosp.com.br/dataset/pesquisa-origem-e-destino/resource/4362eaa3-c0aa-410a-a32b-37355c091075)). "
   ]
  },
  {
   "cell_type": "markdown",
   "metadata": {},
   "source": [
    "The coverage area is the Metropolitan Region of São Paulo, which includes 39 cities composing a total of 517 survey zones (see picture below). A trip in this survey contains a Origin zone, a Destination Zone, a travel mode, and a depart time (within a daily 24 time window). The original data is a sample of ~90k daily trips , which corresponds to 28M motorized (includind shared) trips."
   ]
  },
  {
   "cell_type": "markdown",
   "metadata": {},
   "source": [
    "| ![Coverage Area - OD Survey - Metro SP 2017](./smartcity-tpn/coverage-area.png) |\n",
    "|:--:| \n",
    "| *Source: [This PDF, page 33](https://transparencia.metrosp.com.br/dataset/pesquisa-origem-e-destino/resource/b3d93105-f91e-43c6-b4c0-8d9c617a27fc)* |"
   ]
  },
  {
   "cell_type": "code",
   "execution_count": null,
   "metadata": {},
   "outputs": [],
   "source": [
    "#df = pd.read_csv('/home/rodrigo/charts/smartcity-tpn/metro2017-gps.csv', dtype={'ev': 'string'})\n",
    "#helper.make_map(df, 8, helper.make_title('route','metro-od-2017-zones'))"
   ]
  },
  {
   "cell_type": "markdown",
   "metadata": {},
   "source": [
    "We use this data to generate a 11M vehicle trips (for the shared trips, we considered an average load of 40 passengers by vehicle), including ordinary automobiles, motorcycles and buses. This complete SUMO Network and files were available [here](https://gitlab.com/rodrigo.g.branco/metro-od-2017)."
   ]
  },
  {
   "cell_type": "markdown",
   "metadata": {},
   "source": [
    "However, SUMO can't handle this amount of data in a reasonable running time. Because of that, we limited our experiment to a area known as Expanded Center of São Paulo (we'll present this area when the EVs are introduced). Beside that, the normal window of 6h-8h like the previous scenarios, here, is too much for SUMO (aprox. 1M trips). So, our depart windows in this very scenario is, in fact, 6h45-7h15."
   ]
  },
  {
   "cell_type": "markdown",
   "metadata": {},
   "source": [
    "With that in mind, we have this configuration:"
   ]
  },
  {
   "cell_type": "markdown",
   "metadata": {},
   "source": [
    "_Number of Vehicles to be inserted in the original (complete) scenario (24h):_ **13,215,558**\n",
    "\n",
    "_Number of Vehicles to be inserted in the our (restricted to Expanded Center) version  (6h45-7h15):_ **345,926**"
   ]
  },
  {
   "cell_type": "markdown",
   "metadata": {},
   "source": [
    "| EV       |      Distance         |  Traffic Lights |         \n",
    "|----------|:---------------------:|----------------:|     \n",
    "| EV1      |      12,140.19m        |       55       |     \n",
    "| EV2      |        6,914.45m       |       15        |     \n",
    "| EV3      |      9,922.56m          |      23         |\n",
    "| EV4      |      8,602.20m          |      43        |"
   ]
  },
  {
   "cell_type": "markdown",
   "metadata": {},
   "source": [
    "Now we can see our EVs routes, plus the limit of the expanded center."
   ]
  },
  {
   "cell_type": "code",
   "execution_count": null,
   "metadata": {},
   "outputs": [],
   "source": [
    "df = pd.read_csv('/home/rodrigo/charts/smartcity-tpn/expanded-sp-gps.csv')\n",
    "helper.make_map(df, 10.6, helper.make_title('route','metro-od-2017', 'br'), 'sp-area', lang='br', output_dir='figs2')"
   ]
  },
  {
   "cell_type": "code",
   "execution_count": null,
   "metadata": {},
   "outputs": [],
   "source": [
    "df = pd.read_csv('/home/rodrigo/charts/smartcity-tpn/expanded-center-tese3.csv')\n",
    "df['tl-ttt'] = (df['tl']/df['ttt'])*100\n",
    "df_algs = df[df['alg'] != 'no-preemption']\n",
    "df_no_preemption = df[df['alg'] == 'no-preemption']"
   ]
  },
  {
   "cell_type": "code",
   "execution_count": null,
   "metadata": {},
   "outputs": [],
   "source": [
    "helper.make_boxplot_grouped(df_algs, 'imp', helper.make_title('tl-imp', 'metro-od-2017', 'br'),'sp-times', width=800, height=480, lang='br', output_dir='figs2')"
   ]
  },
  {
   "cell_type": "code",
   "execution_count": null,
   "metadata": {},
   "outputs": [],
   "source": [
    "helper.make_boxplot_grouped(df_algs, 'perc', helper.make_title('tl-perc', 'metro-od-2017', 'br'),'sp-perc', width=1920, height=1080, lang='br', output_dir='figs2')"
   ]
  },
  {
   "cell_type": "code",
   "execution_count": null,
   "metadata": {},
   "outputs": [],
   "source": [
    "helper.make_boxplot(df_no_preemption, 'tl', helper.make_title('tl-no-preemption', 'metro-od-2017', 'br'),'sp-timeloss-nopreempt', width=800, height=480, lang='br', output_dir='figs2')"
   ]
  },
  {
   "cell_type": "code",
   "execution_count": null,
   "metadata": {},
   "outputs": [],
   "source": [
    "helper.make_boxplot(df_no_preemption, 'tl-ttt', helper.make_title('tl-ttt','metro-od-2017', 'br'),'sp-timeloss-over-ttt-nopreempt', width=800, height=480, lang='br', output_dir='figs2')"
   ]
  },
  {
   "cell_type": "code",
   "execution_count": null,
   "metadata": {},
   "outputs": [],
   "source": [
    "helper.make_boxplot_grouped(df_algs, 'tl', helper.make_title('tl-algs', 'metro-od-2017', 'br'),'sp-timeloss-algs', width=800, height=480, lang='br', output_dir='figs2')"
   ]
  },
  {
   "cell_type": "code",
   "execution_count": null,
   "metadata": {},
   "outputs": [],
   "source": [
    "helper.make_boxplot_grouped(df_algs, 'rt', helper.make_title('runtime','metro-od-2017', 'br'),'sp-runtime', width=800, height=480, lang='br', output_dir='figs2')"
   ]
  },
  {
   "cell_type": "code",
   "execution_count": null,
   "metadata": {},
   "outputs": [],
   "source": [
    "helper.make_boxplot_grouped(df_algs, 'preemptime', helper.make_title('preemptime','metro-od-2017', 'br'),'sp-preemptime', width=800, height=480, lang='br', output_dir='figs2')"
   ]
  },
  {
   "cell_type": "code",
   "execution_count": null,
   "metadata": {},
   "outputs": [],
   "source": [
    "helper.make_boxplot_grouped(df, 'n_teleported', helper.make_title('n_teleported','metro-od-2017', 'br'),'sp-teleported', width=1920, height=1080, lang='br', output_dir='figs2')"
   ]
  },
  {
   "cell_type": "code",
   "execution_count": null,
   "metadata": {},
   "outputs": [],
   "source": [
    "df = deltaq.get_all_dfs()\n",
    "\n",
    "fig = px.line(df, x='Queue Length (m)', y='Metric Value', color='Instance', markers=True, line_dash='Instance', symbol='Instance', facet_col='Metric')\n",
    "fig.layout.yaxis.update(title='')\n",
    "fig.layout.yaxis2.update(matches=None,showticklabels=True)\n",
    "fig.update_layout(\n",
    "    font=dict(\n",
    "        size=14\n",
    "    )\n",
    ")\n",
    "fig.show()\n",
    "pio.write_image(fig, 'figs/{}.pdf'.format('queue-activation'), format='pdf', width=800, height=480)"
   ]
  }
 ],
 "metadata": {
  "kernelspec": {
   "display_name": "base",
   "language": "python",
   "name": "python3"
  },
  "language_info": {
   "codemirror_mode": {
    "name": "ipython",
    "version": 3
   },
   "file_extension": ".py",
   "mimetype": "text/x-python",
   "name": "python",
   "nbconvert_exporter": "python",
   "pygments_lexer": "ipython3",
   "version": "3.9.7"
  },
  "vscode": {
   "interpreter": {
    "hash": "3f1fa92065e83bf8b3f9b5096216ce92755ea229f7fd6780b8b3e0f199343520"
   }
  }
 },
 "nbformat": 4,
 "nbformat_minor": 2
}
