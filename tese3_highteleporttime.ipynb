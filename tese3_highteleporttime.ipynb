{
 "cells": [
  {
   "cell_type": "markdown",
   "metadata": {},
   "source": [
    "# Partial Data - Smartcity TPN Traffic Light Preemption"
   ]
  },
  {
   "cell_type": "markdown",
   "metadata": {},
   "source": [
    "First, we need to import some Python modules. All charts-related functions are in our [helper file](charts_helper/helper.py)."
   ]
  },
  {
   "cell_type": "code",
   "execution_count": 14,
   "metadata": {},
   "outputs": [],
   "source": [
    "import pandas as pd\n",
    "import sys\n",
    "sys.path.append('/home/rodrigo/triscale')\n",
    "import triscale\n",
    "sys.path.append('/home/rodrigo/charts')\n",
    "\n",
    "from charts_helper import helper\n",
    "from charts_helper import deltaq\n",
    "\n",
    "import plotly.express as px\n",
    "import plotly.io as pio"
   ]
  },
  {
   "cell_type": "markdown",
   "metadata": {},
   "source": [
    "## KapustaIMP e TPN X"
   ]
  },
  {
   "cell_type": "markdown",
   "metadata": {},
   "source": [
    "| EV       |      Distance         |  Traffic Lights |         \n",
    "|----------|:---------------------:|----------------:|     \n",
    "| EV1      |  990m                 | 1              |     "
   ]
  },
  {
   "cell_type": "markdown",
   "metadata": {},
   "source": [
    "Our results are presented below."
   ]
  },
  {
   "cell_type": "code",
   "execution_count": 15,
   "metadata": {},
   "outputs": [],
   "source": [
    "df = pd.read_csv('/home/rodrigo/charts/smartcity-tpn/sumohighteleporttime.csv')\n",
    "df['tl-ttt'] = (df['tl']/df['ttt'])*100\n",
    "df_algs = df[(df['alg'] != 'no-preemption') & (df['alg'] != 'tpnx')]\n",
    "df_no_preemption = df[df['alg'] == 'no-preemption']"
   ]
  },
  {
   "cell_type": "code",
   "execution_count": 16,
   "metadata": {},
   "outputs": [
    {
     "name": "stdout",
     "output_type": "stream",
     "text": [
      "kapustaimp: \n",
      "VE1 &  -  & -7,09 & -6,41 & -5,73 & -5,55 & -5,06 &  -  \\\\\n",
      "\n"
     ]
    },
    {
     "data": {
      "text/html": [
       "<div>                            <div id=\"19149822-9889-46e2-b52f-1631d9ad6de2\" class=\"plotly-graph-div\" style=\"height:525px; width:100%;\"></div>            <script type=\"text/javascript\">                require([\"plotly\"], function(Plotly) {                    window.PLOTLYENV=window.PLOTLYENV || {};                                    if (document.getElementById(\"19149822-9889-46e2-b52f-1631d9ad6de2\")) {                    Plotly.newPlot(                        \"19149822-9889-46e2-b52f-1631d9ad6de2\",                        [{\"name\":\"Choque de Onda\",\"type\":\"box\",\"x\":[\"VE1\",\"VE1\",\"VE1\",\"VE1\",\"VE1\",\"VE1\",\"VE1\",\"VE1\",\"VE1\",\"VE1\",\"VE1\",\"VE1\",\"VE1\",\"VE1\",\"VE1\",\"VE1\",\"VE1\",\"VE1\",\"VE1\",\"VE1\",\"VE1\",\"VE1\",\"VE1\",\"VE1\"],\"y\":[-5.061516549923356,-5.266047652065559,-5.297108510707123,-5.425224658277217,-5.44852771136185,-5.515581177609223,-5.590967913262162,-5.628190102955554,-5.630875973199969,-5.669511354986171,-5.710000504460269,-5.713430715530086,-5.752848078006713,-5.756457918644414,-5.82714048901782,-6.0409120534652025,-6.141639599297826,-6.335856843557791,-6.4790370266084745,-6.552931005105357,-6.666703220533617,-6.678885074843902,-6.870794421641267,-7.087395636115335]}],                        {\"boxmode\":\"group\",\"font\":{\"size\":14},\"template\":{\"data\":{\"scatter\":[{\"type\":\"scatter\"}]}},\"title\":{\"text\":\"Melhoria do Tempo Perdido - Cen\\u00e1rio Alto Tempo de Teletransporte\"},\"yaxis\":{\"title\":{\"text\":\"Melhoria do Tempo Perdido (vezes)\"}}},                        {\"responsive\": true}                    ).then(function(){\n",
       "                            \n",
       "var gd = document.getElementById('19149822-9889-46e2-b52f-1631d9ad6de2');\n",
       "var x = new MutationObserver(function (mutations, observer) {{\n",
       "        var display = window.getComputedStyle(gd).display;\n",
       "        if (!display || display === 'none') {{\n",
       "            console.log([gd, 'removed!']);\n",
       "            Plotly.purge(gd);\n",
       "            observer.disconnect();\n",
       "        }}\n",
       "}});\n",
       "\n",
       "// Listen for the removal of the full notebook cells\n",
       "var notebookContainer = gd.closest('#notebook-container');\n",
       "if (notebookContainer) {{\n",
       "    x.observe(notebookContainer, {childList: true});\n",
       "}}\n",
       "\n",
       "// Listen for the clearing of the current output cell\n",
       "var outputEl = gd.closest('.output');\n",
       "if (outputEl) {{\n",
       "    x.observe(outputEl, {childList: true});\n",
       "}}\n",
       "\n",
       "                        })                };                });            </script>        </div>"
      ]
     },
     "metadata": {},
     "output_type": "display_data"
    }
   ],
   "source": [
    "helper.make_boxplot_grouped(df_algs, 'imp', helper.make_title('tl-imp','sumohighteleporttime', 'br'),'sumohighteleporttime-times-kapustaimp', width=800, height=480, lang='br', output_dir='figs3')"
   ]
  },
  {
   "cell_type": "code",
   "execution_count": 17,
   "metadata": {},
   "outputs": [
    {
     "name": "stdout",
     "output_type": "stream",
     "text": [
      "kapustaimp: \n",
      "VE1 &  -  & -608,74 & -540,74 & -473,31 & -455,33 & -406,15 &  -  \\\\\n",
      "\n"
     ]
    },
    {
     "data": {
      "text/html": [
       "<div>                            <div id=\"09d8a2a1-d6ef-45f1-b979-d6f32d0a75a7\" class=\"plotly-graph-div\" style=\"height:525px; width:100%;\"></div>            <script type=\"text/javascript\">                require([\"plotly\"], function(Plotly) {                    window.PLOTLYENV=window.PLOTLYENV || {};                                    if (document.getElementById(\"09d8a2a1-d6ef-45f1-b979-d6f32d0a75a7\")) {                    Plotly.newPlot(                        \"09d8a2a1-d6ef-45f1-b979-d6f32d0a75a7\",                        [{\"name\":\"Choque de Onda\",\"type\":\"box\",\"x\":[\"VE1\",\"VE1\",\"VE1\",\"VE1\",\"VE1\",\"VE1\",\"VE1\",\"VE1\",\"VE1\",\"VE1\",\"VE1\",\"VE1\",\"VE1\",\"VE1\",\"VE1\",\"VE1\",\"VE1\",\"VE1\",\"VE1\",\"VE1\",\"VE1\",\"VE1\",\"VE1\",\"VE1\"],\"y\":[-406.1516549923356,-426.604765206556,-429.7108510707124,-442.5224658277217,-444.85277113618497,-451.5581177609224,-459.0967913262162,-462.8190102955554,-463.0875973199969,-466.95113549861713,-471.0000504460269,-471.3430715530085,-475.2848078006713,-475.6457918644414,-482.714048901782,-504.0912053465202,-514.1639599297827,-533.5856843557791,-547.9037026608474,-555.2931005105357,-566.6703220533617,-567.8885074843902,-587.0794421641267,-608.7395636115335]}],                        {\"boxmode\":\"group\",\"font\":{\"size\":14},\"template\":{\"data\":{\"scatter\":[{\"type\":\"scatter\"}]}},\"title\":{\"text\":\"Melhoria do Tempo Perdido - Cen\\u00e1rio Alto Tempo de Teletransporte\"},\"yaxis\":{\"title\":{\"text\":\"Melhoria do Tempo Perdido (%)\"}}},                        {\"responsive\": true}                    ).then(function(){\n",
       "                            \n",
       "var gd = document.getElementById('09d8a2a1-d6ef-45f1-b979-d6f32d0a75a7');\n",
       "var x = new MutationObserver(function (mutations, observer) {{\n",
       "        var display = window.getComputedStyle(gd).display;\n",
       "        if (!display || display === 'none') {{\n",
       "            console.log([gd, 'removed!']);\n",
       "            Plotly.purge(gd);\n",
       "            observer.disconnect();\n",
       "        }}\n",
       "}});\n",
       "\n",
       "// Listen for the removal of the full notebook cells\n",
       "var notebookContainer = gd.closest('#notebook-container');\n",
       "if (notebookContainer) {{\n",
       "    x.observe(notebookContainer, {childList: true});\n",
       "}}\n",
       "\n",
       "// Listen for the clearing of the current output cell\n",
       "var outputEl = gd.closest('.output');\n",
       "if (outputEl) {{\n",
       "    x.observe(outputEl, {childList: true});\n",
       "}}\n",
       "\n",
       "                        })                };                });            </script>        </div>"
      ]
     },
     "metadata": {},
     "output_type": "display_data"
    }
   ],
   "source": [
    "helper.make_boxplot_grouped(df_algs, 'perc', helper.make_title('tl-perc', 'sumohighteleporttime', 'br'),'sumohighteleporttime-perc-kapustaimp', width=800, height=480, lang='br', output_dir='figs3')"
   ]
  },
  {
   "cell_type": "code",
   "execution_count": 18,
   "metadata": {},
   "outputs": [
    {
     "name": "stdout",
     "output_type": "stream",
     "text": [
      "kapustaimp: \n",
      "VE1 &  -  & -54,29 & -54,29 & -54,29 & -52,86 & -51,43 &  -  \\\\\n",
      "\n"
     ]
    },
    {
     "data": {
      "text/html": [
       "<div>                            <div id=\"369f59da-4d05-4113-a411-0420d7231984\" class=\"plotly-graph-div\" style=\"height:525px; width:100%;\"></div>            <script type=\"text/javascript\">                require([\"plotly\"], function(Plotly) {                    window.PLOTLYENV=window.PLOTLYENV || {};                                    if (document.getElementById(\"369f59da-4d05-4113-a411-0420d7231984\")) {                    Plotly.newPlot(                        \"369f59da-4d05-4113-a411-0420d7231984\",                        [{\"name\":\"Choque de Onda\",\"type\":\"box\",\"x\":[\"VE1\",\"VE1\",\"VE1\",\"VE1\",\"VE1\",\"VE1\",\"VE1\",\"VE1\",\"VE1\",\"VE1\",\"VE1\",\"VE1\",\"VE1\",\"VE1\",\"VE1\",\"VE1\",\"VE1\",\"VE1\",\"VE1\",\"VE1\",\"VE1\",\"VE1\",\"VE1\",\"VE1\"],\"y\":[-51.42857142857142,-51.42857142857142,-51.42857142857142,-51.42857142857142,-51.42857142857142,-51.42857142857142,-54.285714285714285,-54.285714285714285,-54.285714285714285,-54.285714285714285,-54.285714285714285,-54.285714285714285,-54.285714285714285,-54.285714285714285,-54.285714285714285,-54.285714285714285,-54.285714285714285,-54.285714285714285,-54.285714285714285,-54.285714285714285,-54.285714285714285,-54.285714285714285,-54.285714285714285,-54.285714285714285]}],                        {\"boxmode\":\"group\",\"font\":{\"size\":14},\"template\":{\"data\":{\"scatter\":[{\"type\":\"scatter\"}]}},\"title\":{\"text\":\"Velocidade M\\u00e9dia das Viagens - Todos os ve\\u00edculos - Cen\\u00e1rio Alto Tempo de Teletransporte\"},\"yaxis\":{\"title\":{\"text\":\"Velocidade M\\u00e9dia (%)\"}}},                        {\"responsive\": true}                    ).then(function(){\n",
       "                            \n",
       "var gd = document.getElementById('369f59da-4d05-4113-a411-0420d7231984');\n",
       "var x = new MutationObserver(function (mutations, observer) {{\n",
       "        var display = window.getComputedStyle(gd).display;\n",
       "        if (!display || display === 'none') {{\n",
       "            console.log([gd, 'removed!']);\n",
       "            Plotly.purge(gd);\n",
       "            observer.disconnect();\n",
       "        }}\n",
       "}});\n",
       "\n",
       "// Listen for the removal of the full notebook cells\n",
       "var notebookContainer = gd.closest('#notebook-container');\n",
       "if (notebookContainer) {{\n",
       "    x.observe(notebookContainer, {childList: true});\n",
       "}}\n",
       "\n",
       "// Listen for the clearing of the current output cell\n",
       "var outputEl = gd.closest('.output');\n",
       "if (outputEl) {{\n",
       "    x.observe(outputEl, {childList: true});\n",
       "}}\n",
       "\n",
       "                        })                };                });            </script>        </div>"
      ]
     },
     "metadata": {},
     "output_type": "display_data"
    }
   ],
   "source": [
    "helper.make_boxplot_grouped(df_algs, 'avg_trip_speed_perc', helper.make_title('avg_trip_speed_perc', 'sumohighteleporttime', 'br'),'sumohighteleporttime-avg_trip_speed_perc-kapustaimp', width=800, height=480, lang='br', output_dir='figs3')"
   ]
  },
  {
   "cell_type": "code",
   "execution_count": 19,
   "metadata": {},
   "outputs": [
    {
     "name": "stdout",
     "output_type": "stream",
     "text": [
      "kapustaimp: \n",
      "VE1 &  -  & -344,50 & -317,67 & -302,42 & -294,40 & -281,93 &  -  \\\\\n",
      "\n"
     ]
    },
    {
     "data": {
      "text/html": [
       "<div>                            <div id=\"d31b4780-105e-4d4e-98c1-aba864931162\" class=\"plotly-graph-div\" style=\"height:525px; width:100%;\"></div>            <script type=\"text/javascript\">                require([\"plotly\"], function(Plotly) {                    window.PLOTLYENV=window.PLOTLYENV || {};                                    if (document.getElementById(\"d31b4780-105e-4d4e-98c1-aba864931162\")) {                    Plotly.newPlot(                        \"d31b4780-105e-4d4e-98c1-aba864931162\",                        [{\"name\":\"Choque de Onda\",\"type\":\"box\",\"x\":[\"VE1\",\"VE1\",\"VE1\",\"VE1\",\"VE1\",\"VE1\",\"VE1\",\"VE1\",\"VE1\",\"VE1\",\"VE1\",\"VE1\",\"VE1\",\"VE1\",\"VE1\",\"VE1\",\"VE1\",\"VE1\",\"VE1\",\"VE1\",\"VE1\",\"VE1\",\"VE1\",\"VE1\"],\"y\":[-281.9256370228367,-286.12904376359813,-287.52675374297,-290.01404999349774,-290.1491511619028,-294.13979358002786,-294.664084429978,-295.6505554408214,-295.85049121473975,-297.5731565569478,-301.09090909090907,-301.2392189472723,-303.6037180008127,-304.8483506752269,-305.1176279534859,-308.4051242456875,-312.54625163954086,-315.69690279522416,-319.64958596502,-322.82721231378105,-325.49801099268177,-329.1597788798236,-341.38094534034195,-344.50333931355857]}],                        {\"boxmode\":\"group\",\"font\":{\"size\":14},\"template\":{\"data\":{\"scatter\":[{\"type\":\"scatter\"}]}},\"title\":{\"text\":\"Tempo Perdido M\\u00e9dio - Todos os ve\\u00edculos - Cen\\u00e1rio Alto Tempo de Teletransporte\"},\"yaxis\":{\"title\":{\"text\":\"Tempo Perdido M\\u00e9dio (%)\"}}},                        {\"responsive\": true}                    ).then(function(){\n",
       "                            \n",
       "var gd = document.getElementById('d31b4780-105e-4d4e-98c1-aba864931162');\n",
       "var x = new MutationObserver(function (mutations, observer) {{\n",
       "        var display = window.getComputedStyle(gd).display;\n",
       "        if (!display || display === 'none') {{\n",
       "            console.log([gd, 'removed!']);\n",
       "            Plotly.purge(gd);\n",
       "            observer.disconnect();\n",
       "        }}\n",
       "}});\n",
       "\n",
       "// Listen for the removal of the full notebook cells\n",
       "var notebookContainer = gd.closest('#notebook-container');\n",
       "if (notebookContainer) {{\n",
       "    x.observe(notebookContainer, {childList: true});\n",
       "}}\n",
       "\n",
       "// Listen for the clearing of the current output cell\n",
       "var outputEl = gd.closest('.output');\n",
       "if (outputEl) {{\n",
       "    x.observe(outputEl, {childList: true});\n",
       "}}\n",
       "\n",
       "                        })                };                });            </script>        </div>"
      ]
     },
     "metadata": {},
     "output_type": "display_data"
    }
   ],
   "source": [
    "helper.make_boxplot_grouped(df_algs, 'avg_trip_timeloss_perc', helper.make_title('avg_trip_timeloss_perc', 'sumohighteleporttime', 'br'),'sumohighteleporttime-avg_trip_timeloss_perc-kapustaimp', width=800, height=480, lang='br', output_dir='figs3')"
   ]
  },
  {
   "cell_type": "code",
   "execution_count": 20,
   "metadata": {},
   "outputs": [
    {
     "name": "stdout",
     "output_type": "stream",
     "text": [
      "kapustaimp: \n",
      "VE1 &  -  & -2.132,00 & -1.969,25 & -1.832,00 & -1.776,00 & -1.656,00 &  -  \\\\\n",
      "\n"
     ]
    },
    {
     "data": {
      "text/html": [
       "<div>                            <div id=\"3119a1ed-2bd9-4023-9b6f-7ec89bed578f\" class=\"plotly-graph-div\" style=\"height:525px; width:100%;\"></div>            <script type=\"text/javascript\">                require([\"plotly\"], function(Plotly) {                    window.PLOTLYENV=window.PLOTLYENV || {};                                    if (document.getElementById(\"3119a1ed-2bd9-4023-9b6f-7ec89bed578f\")) {                    Plotly.newPlot(                        \"3119a1ed-2bd9-4023-9b6f-7ec89bed578f\",                        [{\"name\":\"Choque de Onda\",\"type\":\"box\",\"x\":[\"VE1\",\"VE1\",\"VE1\",\"VE1\",\"VE1\",\"VE1\",\"VE1\",\"VE1\",\"VE1\",\"VE1\",\"VE1\",\"VE1\",\"VE1\",\"VE1\",\"VE1\",\"VE1\",\"VE1\",\"VE1\",\"VE1\",\"VE1\",\"VE1\",\"VE1\",\"VE1\",\"VE1\"],\"y\":[-1655.9999999999998,-1707.9999999999998,-1716.0,-1720.0,-1720.0,-1768.0,-1784.0,-1796.0,-1800.0,-1804.0,-1820.8333333333333,-1828.0,-1836.0,-1840.0,-1858.3333333333333,-1872.0,-1944.0,-1962.5,-1976.0,-2040.0,-2040.0,-2050.0,-2100.0,-2132.0]}],                        {\"boxmode\":\"group\",\"font\":{\"size\":14},\"template\":{\"data\":{\"scatter\":[{\"type\":\"scatter\"}]}},\"title\":{\"text\":\"Ve\\u00edculos Teletransportados - Alto Tempo de Teletransporte\"},\"yaxis\":{\"title\":{\"text\":\"Ve\\u00edculos Teletransportados (%)\"}}},                        {\"responsive\": true}                    ).then(function(){\n",
       "                            \n",
       "var gd = document.getElementById('3119a1ed-2bd9-4023-9b6f-7ec89bed578f');\n",
       "var x = new MutationObserver(function (mutations, observer) {{\n",
       "        var display = window.getComputedStyle(gd).display;\n",
       "        if (!display || display === 'none') {{\n",
       "            console.log([gd, 'removed!']);\n",
       "            Plotly.purge(gd);\n",
       "            observer.disconnect();\n",
       "        }}\n",
       "}});\n",
       "\n",
       "// Listen for the removal of the full notebook cells\n",
       "var notebookContainer = gd.closest('#notebook-container');\n",
       "if (notebookContainer) {{\n",
       "    x.observe(notebookContainer, {childList: true});\n",
       "}}\n",
       "\n",
       "// Listen for the clearing of the current output cell\n",
       "var outputEl = gd.closest('.output');\n",
       "if (outputEl) {{\n",
       "    x.observe(outputEl, {childList: true});\n",
       "}}\n",
       "\n",
       "                        })                };                });            </script>        </div>"
      ]
     },
     "metadata": {},
     "output_type": "display_data"
    }
   ],
   "source": [
    "helper.make_boxplot_grouped(df_algs, 'teleported_perc', helper.make_title('teleported_perc', 'sumohighteleporttime', 'br'),'sumohighteleporttime-teleported_perc-kapustaimp', width=800, height=480, lang='br', output_dir='figs3')"
   ]
  },
  {
   "cell_type": "code",
   "execution_count": 21,
   "metadata": {},
   "outputs": [],
   "source": [
    "df = pd.read_csv('/home/rodrigo/charts/smartcity-tpn/sumohighteleporttime.csv')\n",
    "df['tl-ttt'] = (df['tl']/df['ttt'])*100\n",
    "df_algs = df[df['alg'] != 'no-preemption']\n",
    "df_no_preemption = df[df['alg'] == 'no-preemption']"
   ]
  },
  {
   "cell_type": "code",
   "execution_count": 22,
   "metadata": {},
   "outputs": [
    {
     "name": "stdout",
     "output_type": "stream",
     "text": [
      "kapustaimp: \n",
      "VE1 &  -  & -7,09 & -6,41 & -5,73 & -5,55 & -5,06 &  -  \\\\\n",
      "\n",
      "tpnx: \n",
      "VE1 &  -  & 1,02 & 1,03 & 1,06 & 1,08 & 1,15 &  -  \\\\\n",
      "\n"
     ]
    },
    {
     "data": {
      "text/html": [
       "<div>                            <div id=\"236b4919-aad2-4cab-8726-b2b7510fe596\" class=\"plotly-graph-div\" style=\"height:525px; width:100%;\"></div>            <script type=\"text/javascript\">                require([\"plotly\"], function(Plotly) {                    window.PLOTLYENV=window.PLOTLYENV || {};                                    if (document.getElementById(\"236b4919-aad2-4cab-8726-b2b7510fe596\")) {                    Plotly.newPlot(                        \"236b4919-aad2-4cab-8726-b2b7510fe596\",                        [{\"name\":\"Choque de Onda\",\"type\":\"box\",\"x\":[\"VE1\",\"VE1\",\"VE1\",\"VE1\",\"VE1\",\"VE1\",\"VE1\",\"VE1\",\"VE1\",\"VE1\",\"VE1\",\"VE1\",\"VE1\",\"VE1\",\"VE1\",\"VE1\",\"VE1\",\"VE1\",\"VE1\",\"VE1\",\"VE1\",\"VE1\",\"VE1\",\"VE1\"],\"y\":[-5.061516549923356,-5.266047652065559,-5.297108510707123,-5.425224658277217,-5.44852771136185,-5.515581177609223,-5.590967913262162,-5.628190102955554,-5.630875973199969,-5.669511354986171,-5.710000504460269,-5.713430715530086,-5.752848078006713,-5.756457918644414,-5.82714048901782,-6.0409120534652025,-6.141639599297826,-6.335856843557791,-6.4790370266084745,-6.552931005105357,-6.666703220533617,-6.678885074843902,-6.870794421641267,-7.087395636115335]},{\"name\":\"Choque de Onda + TPN*\",\"type\":\"box\",\"x\":[\"VE1\",\"VE1\",\"VE1\",\"VE1\",\"VE1\",\"VE1\",\"VE1\",\"VE1\",\"VE1\",\"VE1\",\"VE1\",\"VE1\",\"VE1\",\"VE1\",\"VE1\",\"VE1\",\"VE1\",\"VE1\",\"VE1\",\"VE1\",\"VE1\",\"VE1\",\"VE1\",\"VE1\"],\"y\":[1.1478274122298198,1.130688739795269,1.104934545936727,1.101505402784039,1.099353678796568,1.0832199140401146,1.0807991921200355,1.078720685817912,1.0785630150566277,1.0669348122837594,1.0651163832193198,1.064451397178544,1.0632431578228037,1.0624829170795038,1.0504818930870754,1.0504774078427,1.0468228730580849,1.031402718794682,1.031183908270373,1.02937856236102,1.0248725705524016,1.0209924196424165,1.0200054927135722,1.0161774694456431]}],                        {\"boxmode\":\"group\",\"font\":{\"size\":14},\"template\":{\"data\":{\"scatter\":[{\"type\":\"scatter\"}]}},\"title\":{\"text\":\"Melhoria do Tempo Perdido - Cen\\u00e1rio Alto Tempo de Teletransporte\"},\"yaxis\":{\"title\":{\"text\":\"Melhoria do Tempo Perdido (vezes)\"}}},                        {\"responsive\": true}                    ).then(function(){\n",
       "                            \n",
       "var gd = document.getElementById('236b4919-aad2-4cab-8726-b2b7510fe596');\n",
       "var x = new MutationObserver(function (mutations, observer) {{\n",
       "        var display = window.getComputedStyle(gd).display;\n",
       "        if (!display || display === 'none') {{\n",
       "            console.log([gd, 'removed!']);\n",
       "            Plotly.purge(gd);\n",
       "            observer.disconnect();\n",
       "        }}\n",
       "}});\n",
       "\n",
       "// Listen for the removal of the full notebook cells\n",
       "var notebookContainer = gd.closest('#notebook-container');\n",
       "if (notebookContainer) {{\n",
       "    x.observe(notebookContainer, {childList: true});\n",
       "}}\n",
       "\n",
       "// Listen for the clearing of the current output cell\n",
       "var outputEl = gd.closest('.output');\n",
       "if (outputEl) {{\n",
       "    x.observe(outputEl, {childList: true});\n",
       "}}\n",
       "\n",
       "                        })                };                });            </script>        </div>"
      ]
     },
     "metadata": {},
     "output_type": "display_data"
    }
   ],
   "source": [
    "helper.make_boxplot_grouped(df_algs, 'imp', helper.make_title('tl-imp','sumohighteleporttime', 'br'),'sumohighteleporttime-times', width=800, height=480, lang='br', output_dir='figs3')"
   ]
  },
  {
   "cell_type": "code",
   "execution_count": 23,
   "metadata": {},
   "outputs": [
    {
     "name": "stdout",
     "output_type": "stream",
     "text": [
      "kapustaimp: \n",
      "VE1 &  -  & -608,74 & -540,74 & -473,31 & -455,33 & -406,15 &  -  \\\\\n",
      "\n",
      "tpnx: \n",
      "VE1 &  -  & 1,59 & 3,03 & 6,00 & 7,58 & 12,88 &  -  \\\\\n",
      "\n"
     ]
    },
    {
     "data": {
      "text/html": [
       "<div>                            <div id=\"44034ccb-b572-472a-a0d9-dc1f2440e586\" class=\"plotly-graph-div\" style=\"height:525px; width:100%;\"></div>            <script type=\"text/javascript\">                require([\"plotly\"], function(Plotly) {                    window.PLOTLYENV=window.PLOTLYENV || {};                                    if (document.getElementById(\"44034ccb-b572-472a-a0d9-dc1f2440e586\")) {                    Plotly.newPlot(                        \"44034ccb-b572-472a-a0d9-dc1f2440e586\",                        [{\"name\":\"Choque de Onda\",\"type\":\"box\",\"x\":[\"VE1\",\"VE1\",\"VE1\",\"VE1\",\"VE1\",\"VE1\",\"VE1\",\"VE1\",\"VE1\",\"VE1\",\"VE1\",\"VE1\",\"VE1\",\"VE1\",\"VE1\",\"VE1\",\"VE1\",\"VE1\",\"VE1\",\"VE1\",\"VE1\",\"VE1\",\"VE1\",\"VE1\"],\"y\":[-406.1516549923356,-426.604765206556,-429.7108510707124,-442.5224658277217,-444.85277113618497,-451.5581177609224,-459.0967913262162,-462.8190102955554,-463.0875973199969,-466.95113549861713,-471.0000504460269,-471.3430715530085,-475.2848078006713,-475.6457918644414,-482.714048901782,-504.0912053465202,-514.1639599297827,-533.5856843557791,-547.9037026608474,-555.2931005105357,-566.6703220533617,-567.8885074843902,-587.0794421641267,-608.7395636115335]},{\"name\":\"Choque de Onda + TPN*\",\"type\":\"box\",\"x\":[\"VE1\",\"VE1\",\"VE1\",\"VE1\",\"VE1\",\"VE1\",\"VE1\",\"VE1\",\"VE1\",\"VE1\",\"VE1\",\"VE1\",\"VE1\",\"VE1\",\"VE1\",\"VE1\",\"VE1\",\"VE1\",\"VE1\",\"VE1\",\"VE1\",\"VE1\",\"VE1\",\"VE1\"],\"y\":[12.878888468314564,11.558330351722825,9.49690154250421,9.215152511053091,9.037462712211752,7.682642551292018,7.4758745851340125,7.297596760019864,7.284044970937831,6.2735615628181085,6.1135462983402,6.054893379761628,5.948136826227635,5.880839689286821,4.805593834532751,4.805187381074871,4.472855366763362,3.0446612387622807,3.024087945929921,2.854009538884928,2.426893963899845,2.056079872734884,1.961312253363512,1.5919925339880292]}],                        {\"boxmode\":\"group\",\"font\":{\"size\":14},\"template\":{\"data\":{\"scatter\":[{\"type\":\"scatter\"}]}},\"title\":{\"text\":\"Melhoria do Tempo Perdido - Cen\\u00e1rio Alto Tempo de Teletransporte\"},\"yaxis\":{\"title\":{\"text\":\"Melhoria do Tempo Perdido (%)\"}}},                        {\"responsive\": true}                    ).then(function(){\n",
       "                            \n",
       "var gd = document.getElementById('44034ccb-b572-472a-a0d9-dc1f2440e586');\n",
       "var x = new MutationObserver(function (mutations, observer) {{\n",
       "        var display = window.getComputedStyle(gd).display;\n",
       "        if (!display || display === 'none') {{\n",
       "            console.log([gd, 'removed!']);\n",
       "            Plotly.purge(gd);\n",
       "            observer.disconnect();\n",
       "        }}\n",
       "}});\n",
       "\n",
       "// Listen for the removal of the full notebook cells\n",
       "var notebookContainer = gd.closest('#notebook-container');\n",
       "if (notebookContainer) {{\n",
       "    x.observe(notebookContainer, {childList: true});\n",
       "}}\n",
       "\n",
       "// Listen for the clearing of the current output cell\n",
       "var outputEl = gd.closest('.output');\n",
       "if (outputEl) {{\n",
       "    x.observe(outputEl, {childList: true});\n",
       "}}\n",
       "\n",
       "                        })                };                });            </script>        </div>"
      ]
     },
     "metadata": {},
     "output_type": "display_data"
    }
   ],
   "source": [
    "helper.make_boxplot_grouped(df_algs, 'perc', helper.make_title('tl-perc', 'sumohighteleporttime', 'br'),'sumohighteleporttime-perc', width=800, height=480, lang='br', output_dir='figs3')"
   ]
  },
  {
   "cell_type": "code",
   "execution_count": 24,
   "metadata": {},
   "outputs": [
    {
     "name": "stdout",
     "output_type": "stream",
     "text": [
      "kapustaimp: \n",
      "VE1 &  -  & -54,29 & -54,29 & -54,29 & -52,86 & -51,43 &  -  \\\\\n",
      "\n",
      "tpnx: \n",
      "VE1 &  -  & -22,86 & -20,00 & -17,14 & -17,14 & -17,14 &  -  \\\\\n",
      "\n"
     ]
    },
    {
     "data": {
      "text/html": [
       "<div>                            <div id=\"c221c207-4822-42ed-a255-c2273f416e2a\" class=\"plotly-graph-div\" style=\"height:525px; width:100%;\"></div>            <script type=\"text/javascript\">                require([\"plotly\"], function(Plotly) {                    window.PLOTLYENV=window.PLOTLYENV || {};                                    if (document.getElementById(\"c221c207-4822-42ed-a255-c2273f416e2a\")) {                    Plotly.newPlot(                        \"c221c207-4822-42ed-a255-c2273f416e2a\",                        [{\"name\":\"Choque de Onda\",\"type\":\"box\",\"x\":[\"VE1\",\"VE1\",\"VE1\",\"VE1\",\"VE1\",\"VE1\",\"VE1\",\"VE1\",\"VE1\",\"VE1\",\"VE1\",\"VE1\",\"VE1\",\"VE1\",\"VE1\",\"VE1\",\"VE1\",\"VE1\",\"VE1\",\"VE1\",\"VE1\",\"VE1\",\"VE1\",\"VE1\"],\"y\":[-51.42857142857142,-51.42857142857142,-51.42857142857142,-51.42857142857142,-51.42857142857142,-51.42857142857142,-54.285714285714285,-54.285714285714285,-54.285714285714285,-54.285714285714285,-54.285714285714285,-54.285714285714285,-54.285714285714285,-54.285714285714285,-54.285714285714285,-54.285714285714285,-54.285714285714285,-54.285714285714285,-54.285714285714285,-54.285714285714285,-54.285714285714285,-54.285714285714285,-54.285714285714285,-54.285714285714285]},{\"name\":\"Choque de Onda + TPN*\",\"type\":\"box\",\"x\":[\"VE1\",\"VE1\",\"VE1\",\"VE1\",\"VE1\",\"VE1\",\"VE1\",\"VE1\",\"VE1\",\"VE1\",\"VE1\",\"VE1\",\"VE1\",\"VE1\",\"VE1\",\"VE1\",\"VE1\",\"VE1\",\"VE1\",\"VE1\",\"VE1\",\"VE1\",\"VE1\",\"VE1\"],\"y\":[-17.14285714285715,-17.14285714285715,-17.14285714285715,-17.14285714285715,-17.14285714285715,-17.14285714285715,-17.14285714285715,-17.14285714285715,-17.14285714285715,-17.14285714285715,-17.14285714285715,-17.14285714285715,-17.14285714285715,-19.999999999999982,-19.999999999999982,-19.999999999999982,-19.999999999999982,-19.999999999999982,-19.999999999999982,-19.999999999999982,-19.999999999999982,-19.999999999999982,-19.999999999999982,-22.857142857142843]}],                        {\"boxmode\":\"group\",\"font\":{\"size\":14},\"template\":{\"data\":{\"scatter\":[{\"type\":\"scatter\"}]}},\"title\":{\"text\":\"Velocidade M\\u00e9dia das Viagens - Todos os ve\\u00edculos - Cen\\u00e1rio Alto Tempo de Teletransporte\"},\"yaxis\":{\"title\":{\"text\":\"Velocidade M\\u00e9dia (%)\"}}},                        {\"responsive\": true}                    ).then(function(){\n",
       "                            \n",
       "var gd = document.getElementById('c221c207-4822-42ed-a255-c2273f416e2a');\n",
       "var x = new MutationObserver(function (mutations, observer) {{\n",
       "        var display = window.getComputedStyle(gd).display;\n",
       "        if (!display || display === 'none') {{\n",
       "            console.log([gd, 'removed!']);\n",
       "            Plotly.purge(gd);\n",
       "            observer.disconnect();\n",
       "        }}\n",
       "}});\n",
       "\n",
       "// Listen for the removal of the full notebook cells\n",
       "var notebookContainer = gd.closest('#notebook-container');\n",
       "if (notebookContainer) {{\n",
       "    x.observe(notebookContainer, {childList: true});\n",
       "}}\n",
       "\n",
       "// Listen for the clearing of the current output cell\n",
       "var outputEl = gd.closest('.output');\n",
       "if (outputEl) {{\n",
       "    x.observe(outputEl, {childList: true});\n",
       "}}\n",
       "\n",
       "                        })                };                });            </script>        </div>"
      ]
     },
     "metadata": {},
     "output_type": "display_data"
    }
   ],
   "source": [
    "helper.make_boxplot_grouped(df_algs, 'avg_trip_speed_perc', helper.make_title('avg_trip_speed_perc', 'sumohighteleporttime', 'br'),'sumohighteleporttime-avg_trip_speed_perc-perc', width=800, height=480, lang='br', output_dir='figs3')"
   ]
  },
  {
   "cell_type": "code",
   "execution_count": 25,
   "metadata": {},
   "outputs": [
    {
     "name": "stdout",
     "output_type": "stream",
     "text": [
      "kapustaimp: \n",
      "VE1 &  -  & -344,50 & -317,67 & -302,42 & -294,40 & -281,93 &  -  \\\\\n",
      "\n",
      "tpnx: \n",
      "VE1 &  -  & -28,17 & -24,85 & -22,31 & -21,06 & -19,12 &  -  \\\\\n",
      "\n"
     ]
    },
    {
     "data": {
      "text/html": [
       "<div>                            <div id=\"6feb5675-9fa3-4540-bff3-063f54374a96\" class=\"plotly-graph-div\" style=\"height:525px; width:100%;\"></div>            <script type=\"text/javascript\">                require([\"plotly\"], function(Plotly) {                    window.PLOTLYENV=window.PLOTLYENV || {};                                    if (document.getElementById(\"6feb5675-9fa3-4540-bff3-063f54374a96\")) {                    Plotly.newPlot(                        \"6feb5675-9fa3-4540-bff3-063f54374a96\",                        [{\"name\":\"Choque de Onda\",\"type\":\"box\",\"x\":[\"VE1\",\"VE1\",\"VE1\",\"VE1\",\"VE1\",\"VE1\",\"VE1\",\"VE1\",\"VE1\",\"VE1\",\"VE1\",\"VE1\",\"VE1\",\"VE1\",\"VE1\",\"VE1\",\"VE1\",\"VE1\",\"VE1\",\"VE1\",\"VE1\",\"VE1\",\"VE1\",\"VE1\"],\"y\":[-281.9256370228367,-286.12904376359813,-287.52675374297,-290.01404999349774,-290.1491511619028,-294.13979358002786,-294.664084429978,-295.6505554408214,-295.85049121473975,-297.5731565569478,-301.09090909090907,-301.2392189472723,-303.6037180008127,-304.8483506752269,-305.1176279534859,-308.4051242456875,-312.54625163954086,-315.69690279522416,-319.64958596502,-322.82721231378105,-325.49801099268177,-329.1597788798236,-341.38094534034195,-344.50333931355857]},{\"name\":\"Choque de Onda + TPN*\",\"type\":\"box\",\"x\":[\"VE1\",\"VE1\",\"VE1\",\"VE1\",\"VE1\",\"VE1\",\"VE1\",\"VE1\",\"VE1\",\"VE1\",\"VE1\",\"VE1\",\"VE1\",\"VE1\",\"VE1\",\"VE1\",\"VE1\",\"VE1\",\"VE1\",\"VE1\",\"VE1\",\"VE1\",\"VE1\",\"VE1\"],\"y\":[-19.11610885348867,-20.508031945583195,-20.598291033786985,-20.700171240305544,-20.99167938505535,-21.016087370050297,-21.108847474827307,-21.22019363621068,-21.51267942155335,-21.69310016933035,-21.714620898751424,-21.930352470763424,-22.698827559353703,-22.834843651583792,-23.162306382783825,-24.21708753241112,-24.310875817658896,-24.755127880476067,-24.94649251406007,-25.206824572953824,-25.24731906389639,-26.25347018821791,-26.91408451063331,-28.16766558309629]}],                        {\"boxmode\":\"group\",\"font\":{\"size\":14},\"template\":{\"data\":{\"scatter\":[{\"type\":\"scatter\"}]}},\"title\":{\"text\":\"Tempo Perdido M\\u00e9dio - Todos os ve\\u00edculos - Cen\\u00e1rio Alto Tempo de Teletransporte\"},\"yaxis\":{\"title\":{\"text\":\"Tempo Perdido M\\u00e9dio (%)\"}}},                        {\"responsive\": true}                    ).then(function(){\n",
       "                            \n",
       "var gd = document.getElementById('6feb5675-9fa3-4540-bff3-063f54374a96');\n",
       "var x = new MutationObserver(function (mutations, observer) {{\n",
       "        var display = window.getComputedStyle(gd).display;\n",
       "        if (!display || display === 'none') {{\n",
       "            console.log([gd, 'removed!']);\n",
       "            Plotly.purge(gd);\n",
       "            observer.disconnect();\n",
       "        }}\n",
       "}});\n",
       "\n",
       "// Listen for the removal of the full notebook cells\n",
       "var notebookContainer = gd.closest('#notebook-container');\n",
       "if (notebookContainer) {{\n",
       "    x.observe(notebookContainer, {childList: true});\n",
       "}}\n",
       "\n",
       "// Listen for the clearing of the current output cell\n",
       "var outputEl = gd.closest('.output');\n",
       "if (outputEl) {{\n",
       "    x.observe(outputEl, {childList: true});\n",
       "}}\n",
       "\n",
       "                        })                };                });            </script>        </div>"
      ]
     },
     "metadata": {},
     "output_type": "display_data"
    }
   ],
   "source": [
    "helper.make_boxplot_grouped(df_algs, 'avg_trip_timeloss_perc', helper.make_title('avg_trip_timeloss_perc', 'sumohighteleporttime', 'br'),'sumohighteleporttime-avg_trip_timeloss_perc', width=800, height=480, lang='br', output_dir='figs3')"
   ]
  },
  {
   "cell_type": "code",
   "execution_count": 26,
   "metadata": {},
   "outputs": [
    {
     "name": "stdout",
     "output_type": "stream",
     "text": [
      "kapustaimp: \n",
      "VE1 &  -  & -2.132,00 & -1.969,25 & -1.832,00 & -1.776,00 & -1.656,00 &  -  \\\\\n",
      "\n",
      "tpnx: \n",
      "VE1 &  -  & -84,00 & -56,25 & -40,00 & -28,00 & -16,00 &  -  \\\\\n",
      "\n"
     ]
    },
    {
     "data": {
      "text/html": [
       "<div>                            <div id=\"a6ef742c-03e8-4e1a-9c05-2909b7d20e34\" class=\"plotly-graph-div\" style=\"height:525px; width:100%;\"></div>            <script type=\"text/javascript\">                require([\"plotly\"], function(Plotly) {                    window.PLOTLYENV=window.PLOTLYENV || {};                                    if (document.getElementById(\"a6ef742c-03e8-4e1a-9c05-2909b7d20e34\")) {                    Plotly.newPlot(                        \"a6ef742c-03e8-4e1a-9c05-2909b7d20e34\",                        [{\"name\":\"Choque de Onda\",\"type\":\"box\",\"x\":[\"VE1\",\"VE1\",\"VE1\",\"VE1\",\"VE1\",\"VE1\",\"VE1\",\"VE1\",\"VE1\",\"VE1\",\"VE1\",\"VE1\",\"VE1\",\"VE1\",\"VE1\",\"VE1\",\"VE1\",\"VE1\",\"VE1\",\"VE1\",\"VE1\",\"VE1\",\"VE1\",\"VE1\"],\"y\":[-1655.9999999999998,-1707.9999999999998,-1716.0,-1720.0,-1720.0,-1768.0,-1784.0,-1796.0,-1800.0,-1804.0,-1820.8333333333333,-1828.0,-1836.0,-1840.0,-1858.3333333333333,-1872.0,-1944.0,-1962.5,-1976.0,-2040.0,-2040.0,-2050.0,-2100.0,-2132.0]},{\"name\":\"Choque de Onda + TPN*\",\"type\":\"box\",\"x\":[\"VE1\",\"VE1\",\"VE1\",\"VE1\",\"VE1\",\"VE1\",\"VE1\",\"VE1\",\"VE1\",\"VE1\",\"VE1\",\"VE1\",\"VE1\",\"VE1\",\"VE1\",\"VE1\",\"VE1\",\"VE1\",\"VE1\",\"VE1\",\"VE1\",\"VE1\",\"VE1\",\"VE1\"],\"y\":[-15.999999999999991,-15.999999999999991,-15.999999999999991,-24.0,-28.000000000000004,-28.000000000000004,-28.000000000000004,-32.00000000000001,-32.00000000000001,-36.00000000000001,-36.00000000000001,-39.99999999999999,-39.99999999999999,-39.99999999999999,-39.99999999999999,-39.99999999999999,-48.0,-50.0,-62.5,-63.99999999999999,-68.0,-68.0,-83.33333333333333,-84.00000000000001]}],                        {\"boxmode\":\"group\",\"font\":{\"size\":14},\"template\":{\"data\":{\"scatter\":[{\"type\":\"scatter\"}]}},\"title\":{\"text\":\"Ve\\u00edculos Teletransportados - Alto Tempo de Teletransporte\"},\"yaxis\":{\"title\":{\"text\":\"Ve\\u00edculos Teletransportados (%)\"}}},                        {\"responsive\": true}                    ).then(function(){\n",
       "                            \n",
       "var gd = document.getElementById('a6ef742c-03e8-4e1a-9c05-2909b7d20e34');\n",
       "var x = new MutationObserver(function (mutations, observer) {{\n",
       "        var display = window.getComputedStyle(gd).display;\n",
       "        if (!display || display === 'none') {{\n",
       "            console.log([gd, 'removed!']);\n",
       "            Plotly.purge(gd);\n",
       "            observer.disconnect();\n",
       "        }}\n",
       "}});\n",
       "\n",
       "// Listen for the removal of the full notebook cells\n",
       "var notebookContainer = gd.closest('#notebook-container');\n",
       "if (notebookContainer) {{\n",
       "    x.observe(notebookContainer, {childList: true});\n",
       "}}\n",
       "\n",
       "// Listen for the clearing of the current output cell\n",
       "var outputEl = gd.closest('.output');\n",
       "if (outputEl) {{\n",
       "    x.observe(outputEl, {childList: true});\n",
       "}}\n",
       "\n",
       "                        })                };                });            </script>        </div>"
      ]
     },
     "metadata": {},
     "output_type": "display_data"
    }
   ],
   "source": [
    "helper.make_boxplot_grouped(df_algs, 'teleported_perc', helper.make_title('teleported_perc', 'sumohighteleporttime', 'br'),'sumohighteleporttime-teleported_perc', width=800, height=480, lang='br', output_dir='figs3')"
   ]
  }
 ],
 "metadata": {
  "kernelspec": {
   "display_name": "triscale",
   "language": "python",
   "name": "python3"
  },
  "language_info": {
   "codemirror_mode": {
    "name": "ipython",
    "version": 3
   },
   "file_extension": ".py",
   "mimetype": "text/x-python",
   "name": "python",
   "nbconvert_exporter": "python",
   "pygments_lexer": "ipython3",
   "version": "3.9.7"
  }
 },
 "nbformat": 4,
 "nbformat_minor": 2
}
